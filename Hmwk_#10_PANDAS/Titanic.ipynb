{
 "cells": [
  {
   "cell_type": "code",
   "execution_count": null,
   "metadata": {},
   "outputs": [],
   "source": [
    "import numpy as np \n",
    "import pandas as pd \n",
    "\n",
    "from sklearn import preprocessing\n",
    "import matplotlib.pyplot as plt \n",
    "plt.rc(\"font\", size=14)\n",
    "import seaborn as sns\n",
    "sns.set(style=\"white\") #white background style for seaborn plots\n",
    "sns.set(style=\"whitegrid\", color_codes=True)\n",
    "\n",
    "#sklearn imports source: https://towardsdatascience.com/building-a-logistic-regression-in-python-step-by-step-becd4d56c9c8"
   ]
  },
  {
   "cell_type": "code",
   "execution_count": null,
   "metadata": {},
   "outputs": [],
   "source": [
    "# get titanic & test csv files as a DataFrame\n",
    "\n",
    "#developmental data (train)\n",
    "titanic_df = pd.read_csv(\"../input/train.csv\")\n",
    "\n",
    "#cross validation data (hold-out testing)\n",
    "test_df    = pd.read_csv(\"../input/test.csv\")\n",
    "\n",
    "# preview developmental data\n",
    "titanic_df.head(5)"
   ]
  },
  {
   "cell_type": "code",
   "execution_count": null,
   "metadata": {},
   "outputs": [],
   "source": [
    "test_df.head(5)"
   ]
  },
  {
   "cell_type": "code",
   "execution_count": null,
   "metadata": {},
   "outputs": [],
   "source": [
    "# check missing values in train dataset\n",
    "titanic_df.isnull().sum()"
   ]
  },
  {
   "cell_type": "code",
   "execution_count": null,
   "metadata": {},
   "outputs": [],
   "source": [
    "sum(pd.isnull(titanic_df['Age']))"
   ]
  },
  {
   "cell_type": "code",
   "execution_count": null,
   "metadata": {},
   "outputs": [],
   "source": [
    "# proportion of \"Age\" missing\n",
    "round(177/(len(titanic_df[\"PassengerId\"])),4)"
   ]
  },
  {
   "cell_type": "code",
   "execution_count": null,
   "metadata": {},
   "outputs": [],
   "source": [
    "ax = titanic_df[\"Age\"].hist(bins=15, color='teal', alpha=0.8)\n",
    "ax.set(xlabel='Age', ylabel='Count')\n",
    "plt.show()"
   ]
  },
  {
   "cell_type": "code",
   "execution_count": null,
   "metadata": {},
   "outputs": [],
   "source": [
    "# median age is 28 (as compared to mean which is ~30)\n",
    "titanic_df[\"Age\"].median(skipna=True)"
   ]
  },
  {
   "cell_type": "code",
   "execution_count": null,
   "metadata": {},
   "outputs": [],
   "source": [
    "# proportion of \"cabin\" missing\n",
    "round(687/len(titanic_df[\"PassengerId\"]),4)"
   ]
  },
  {
   "cell_type": "code",
   "execution_count": null,
   "metadata": {},
   "outputs": [],
   "source": [
    "# proportion of \"Embarked\" missing\n",
    "round(2/len(titanic_df[\"PassengerId\"]),4)"
   ]
  },
  {
   "cell_type": "code",
   "execution_count": null,
   "metadata": {},
   "outputs": [],
   "source": [
    "sns.countplot(x='Embarked',data=titanic_df,palette='Set2')\n",
    "plt.show()"
   ]
  },
  {
   "cell_type": "code",
   "execution_count": null,
   "metadata": {},
   "outputs": [],
   "source": [
    "train_data = titanic_df\n",
    "train_data[\"Age\"].fillna(28, inplace=True)\n",
    "train_data[\"Embarked\"].fillna(\"S\", inplace=True)\n",
    "train_data.drop('Cabin', axis=1, inplace=True)"
   ]
  },
  {
   "cell_type": "code",
   "execution_count": null,
   "metadata": {},
   "outputs": [],
   "source": [
    "## Create categorical variable for traveling alone\n",
    "\n",
    "train_data['TravelBuds']=train_data[\"SibSp\"]+train_data[\"Parch\"]\n",
    "train_data['TravelAlone']=np.where(train_data['TravelBuds']>0, 0, 1)"
   ]
  },
  {
   "cell_type": "code",
   "execution_count": null,
   "metadata": {},
   "outputs": [],
   "source": [
    "train_data.drop('SibSp', axis=1, inplace=True)\n",
    "train_data.drop('Parch', axis=1, inplace=True)\n",
    "train_data.drop('TravelBuds', axis=1, inplace=True)"
   ]
  },
  {
   "cell_type": "code",
   "execution_count": null,
   "metadata": {},
   "outputs": [],
   "source": [
    "train2 = pd.get_dummies(train_data, columns=[\"Pclass\"])"
   ]
  },
  {
   "cell_type": "code",
   "execution_count": null,
   "metadata": {},
   "outputs": [],
   "source": [
    "train3 = pd.get_dummies(train2, columns=[\"Embarked\"])"
   ]
  },
  {
   "cell_type": "code",
   "execution_count": null,
   "metadata": {},
   "outputs": [],
   "source": [
    "train4=pd.get_dummies(train3, columns=[\"Sex\"])\n",
    "train4.drop('Sex_female', axis=1, inplace=True)"
   ]
  },
  {
   "cell_type": "code",
   "execution_count": null,
   "metadata": {},
   "outputs": [],
   "source": [
    "train4.drop('PassengerId', axis=1, inplace=True)\n",
    "train4.drop('Name', axis=1, inplace=True)\n",
    "train4.drop('Ticket', axis=1, inplace=True)\n",
    "train4.head(5)"
   ]
  },
  {
   "cell_type": "code",
   "execution_count": null,
   "metadata": {},
   "outputs": [],
   "source": [
    "df_final = train4"
   ]
  },
  {
   "cell_type": "code",
   "execution_count": null,
   "metadata": {},
   "outputs": [],
   "source": [
    "test_df[\"Age\"].fillna(28, inplace=True)\n",
    "test_df[\"Fare\"].fillna(14.45, inplace=True)\n",
    "test_df.drop('Cabin', axis=1, inplace=True)"
   ]
  },
  {
   "cell_type": "code",
   "execution_count": null,
   "metadata": {},
   "outputs": [],
   "source": [
    "test_df['TravelBuds']=test_df[\"SibSp\"]+test_df[\"Parch\"]\n",
    "test_df['TravelAlone']=np.where(test_df['TravelBuds']>0, 0, 1)\n",
    "\n",
    "test_df.drop('SibSp', axis=1, inplace=True)\n",
    "test_df.drop('Parch', axis=1, inplace=True)\n",
    "test_df.drop('TravelBuds', axis=1, inplace=True)\n",
    "\n",
    "test2 = pd.get_dummies(test_df, columns=[\"Pclass\"])\n",
    "test3 = pd.get_dummies(test2, columns=[\"Embarked\"])\n",
    "\n",
    "test4=pd.get_dummies(test3, columns=[\"Sex\"])\n",
    "test4.drop('Sex_female', axis=1, inplace=True)\n",
    "\n",
    "test4.drop('PassengerId', axis=1, inplace=True)\n",
    "test4.drop('Name', axis=1, inplace=True)\n",
    "test4.drop('Ticket', axis=1, inplace=True)\n",
    "final_test = test4"
   ]
  },
  {
   "cell_type": "code",
   "execution_count": null,
   "metadata": {},
   "outputs": [],
   "source": [
    "final_test.head(5)"
   ]
  },
  {
   "cell_type": "code",
   "execution_count": null,
   "metadata": {},
   "outputs": [],
   "source": [
    "plt.figure(figsize=(15,8))\n",
    "sns.kdeplot(titanic_df[\"Age\"][df_final.Survived == 1], color=\"darkturquoise\", shade=True)\n",
    "sns.kdeplot(titanic_df[\"Age\"][df_final.Survived == 0], color=\"lightcoral\", shade=True)\n",
    "plt.legend(['Survived', 'Died'])\n",
    "plt.title('Density Plot of Age for Surviving Population and Deceased Population')\n",
    "plt.show()"
   ]
  },
  {
   "cell_type": "code",
   "execution_count": null,
   "metadata": {},
   "outputs": [],
   "source": [
    "plt.figure(figsize=(20,8))\n",
    "avg_survival_byage = df_final[[\"Age\", \"Survived\"]].groupby(['Age'],as_index=False).mean()\n",
    "g = sns.barplot(x='Age', y='Survived', data=avg_survival_byage, color=\"LightSeaGreen\")"
   ]
  },
  {
   "cell_type": "code",
   "execution_count": null,
   "metadata": {},
   "outputs": [],
   "source": [
    "df_final['IsMinor']=np.where(train_data['Age']<=16, 1, 0)"
   ]
  },
  {
   "cell_type": "code",
   "execution_count": null,
   "metadata": {},
   "outputs": [],
   "source": [
    "final_test['IsMinor']=np.where(final_test['Age']<=16, 1, 0)"
   ]
  },
  {
   "cell_type": "code",
   "execution_count": null,
   "metadata": {},
   "outputs": [],
   "source": [
    "plt.figure(figsize=(15,8))\n",
    "sns.kdeplot(df_final[\"Fare\"][titanic_df.Survived == 1], color=\"darkturquoise\", shade=True)\n",
    "sns.kdeplot(df_final[\"Fare\"][titanic_df.Survived == 0], color=\"lightcoral\", shade=True)\n",
    "plt.legend(['Survived', 'Died'])\n",
    "plt.title('Density Plot of Fare for Surviving Population and Deceased Population')\n",
    "# limit x axis to zoom on most information. there are a few outliers in fare. \n",
    "plt.xlim(-20,200)\n",
    "plt.show()"
   ]
  },
  {
   "cell_type": "code",
   "execution_count": null,
   "metadata": {},
   "outputs": [],
   "source": [
    "sns.barplot('Pclass', 'Survived', data=titanic_df, color=\"darkturquoise\")\n",
    "plt.show()"
   ]
  },
  {
   "cell_type": "code",
   "execution_count": null,
   "metadata": {},
   "outputs": [],
   "source": [
    "sns.barplot('Embarked', 'Survived', data=titanic_df, color=\"teal\")\n",
    "plt.show()"
   ]
  },
  {
   "cell_type": "code",
   "execution_count": null,
   "metadata": {},
   "outputs": [],
   "source": [
    "sns.barplot('TravelAlone', 'Survived', data=df_final, color=\"mediumturquoise\")\n",
    "plt.show()"
   ]
  },
  {
   "cell_type": "code",
   "execution_count": null,
   "metadata": {},
   "outputs": [],
   "source": [
    "sns.barplot('Sex', 'Survived', data=titanic_df, color=\"aquamarine\")\n",
    "plt.show()"
   ]
  },
  {
   "cell_type": "code",
   "execution_count": null,
   "metadata": {},
   "outputs": [],
   "source": [
    "df_final.head(10)"
   ]
  },
  {
   "cell_type": "code",
   "execution_count": null,
   "metadata": {},
   "outputs": [],
   "source": [
    "cols=[\"Age\", \"Fare\", \"TravelAlone\", \"Pclass_1\", \"Pclass_2\",\"Embarked_C\",\"Embarked_S\",\"Sex_male\",\"IsMinor\"] \n",
    "X=df_final[cols]\n",
    "Y=df_final['Survived']"
   ]
  },
  {
   "cell_type": "code",
   "execution_count": null,
   "metadata": {},
   "outputs": [],
   "source": [
    "import statsmodels.api as sm\n",
    "from scipy import stats\n",
    "stats.chisqprob = lambda chisq, df: stats.chi2.sf(chisq, df)\n",
    "logit_model=sm.Logit(Y,X)\n",
    "result=logit_model.fit()\n",
    "print(result.summary())"
   ]
  },
  {
   "cell_type": "code",
   "execution_count": null,
   "metadata": {},
   "outputs": [],
   "source": [
    "cols2=[\"Age\", \"Pclass_1\", \"Pclass_2\",\"Embarked_C\",\"Embarked_S\",\"Sex_male\"]  \n",
    "X2=df_final[cols2]\n",
    "Y=df_final['Survived']\n",
    "\n",
    "logit_model=sm.Logit(Y,X2)\n",
    "result=logit_model.fit()\n",
    "\n",
    "print(result.summary())"
   ]
  },
  {
   "cell_type": "code",
   "execution_count": null,
   "metadata": {},
   "outputs": [],
   "source": [
    "from sklearn.linear_model import LogisticRegression\n",
    "\n",
    "logreg = LogisticRegression()\n",
    "logreg.fit(X2, Y)\n",
    "\n",
    "logreg.score(X2, Y)"
   ]
  },
  {
   "cell_type": "code",
   "execution_count": null,
   "metadata": {},
   "outputs": [],
   "source": [
    "from sklearn.model_selection import train_test_split\n",
    "train, test = train_test_split(df_final, test_size=0.2)"
   ]
  },
  {
   "cell_type": "code",
   "execution_count": 1,
   "metadata": {},
   "outputs": [
    {
     "ename": "NameError",
     "evalue": "name 'train' is not defined",
     "output_type": "error",
     "traceback": [
      "\u001b[1;31m---------------------------------------------------------------------------\u001b[0m",
      "\u001b[1;31mNameError\u001b[0m                                 Traceback (most recent call last)",
      "\u001b[1;32m<ipython-input-1-87d744d26461>\u001b[0m in \u001b[0;36m<module>\u001b[1;34m\u001b[0m\n\u001b[0;32m      2\u001b[0m \u001b[1;33m\u001b[0m\u001b[0m\n\u001b[0;32m      3\u001b[0m \u001b[0mcols2\u001b[0m\u001b[1;33m=\u001b[0m\u001b[1;33m[\u001b[0m\u001b[1;34m\"Age\"\u001b[0m\u001b[1;33m,\u001b[0m \u001b[1;34m\"Pclass_1\"\u001b[0m\u001b[1;33m,\u001b[0m \u001b[1;34m\"Pclass_2\"\u001b[0m\u001b[1;33m,\u001b[0m\u001b[1;34m\"Embarked_C\"\u001b[0m\u001b[1;33m,\u001b[0m\u001b[1;34m\"Embarked_S\"\u001b[0m\u001b[1;33m,\u001b[0m\u001b[1;34m\"Sex_male\"\u001b[0m\u001b[1;33m]\u001b[0m\u001b[1;33m\u001b[0m\u001b[1;33m\u001b[0m\u001b[0m\n\u001b[1;32m----> 4\u001b[1;33m \u001b[0mX3\u001b[0m\u001b[1;33m=\u001b[0m\u001b[0mtrain\u001b[0m\u001b[1;33m[\u001b[0m\u001b[0mcols2\u001b[0m\u001b[1;33m]\u001b[0m\u001b[1;33m\u001b[0m\u001b[1;33m\u001b[0m\u001b[0m\n\u001b[0m\u001b[0;32m      5\u001b[0m \u001b[0mY3\u001b[0m\u001b[1;33m=\u001b[0m\u001b[0mtrain\u001b[0m\u001b[1;33m[\u001b[0m\u001b[1;34m'Survived'\u001b[0m\u001b[1;33m]\u001b[0m\u001b[1;33m\u001b[0m\u001b[1;33m\u001b[0m\u001b[0m\n\u001b[0;32m      6\u001b[0m \u001b[0mlogit_model3\u001b[0m\u001b[1;33m=\u001b[0m\u001b[0msm\u001b[0m\u001b[1;33m.\u001b[0m\u001b[0mLogit\u001b[0m\u001b[1;33m(\u001b[0m\u001b[0mY3\u001b[0m\u001b[1;33m,\u001b[0m\u001b[0mX3\u001b[0m\u001b[1;33m)\u001b[0m\u001b[1;33m\u001b[0m\u001b[1;33m\u001b[0m\u001b[0m\n",
      "\u001b[1;31mNameError\u001b[0m: name 'train' is not defined"
     ]
    }
   ],
   "source": [
    "#re-fit logistic regression on new train sample\n",
    "\n",
    "cols2=[\"Age\", \"Pclass_1\", \"Pclass_2\",\"Embarked_C\",\"Embarked_S\",\"Sex_male\"] \n",
    "X3=train[cols2]\n",
    "Y3=train['Survived']\n",
    "logit_model3=sm.Logit(Y3,X3)"
   ]
  },
  {
   "cell_type": "code",
   "execution_count": null,
   "metadata": {},
   "outputs": [],
   "source": [
    "from sklearn.linear_model import LogisticRegression\n",
    "from sklearn import metrics\n",
    "\n",
    "logreg = LogisticRegression()\n",
    "logreg.fit(X3, Y3)\n",
    "logreg.score(X3, Y3)"
   ]
  },
  {
   "cell_type": "code",
   "execution_count": null,
   "metadata": {},
   "outputs": [],
   "source": [
    "from sklearn import metrics\n",
    "logreg.fit(X3, Y3)\n",
    "\n",
    "X3_test = test[cols2]\n",
    "Y3_test = test['Survived']\n",
    "\n",
    "Y3test_pred = logreg.predict(X3_test)\n",
    "print('Accuracy of logistic regression classifier on test set: {:.2f}'.format(logreg.score(X3_test, Y3_test)))"
   ]
  },
  {
   "cell_type": "code",
   "execution_count": null,
   "metadata": {},
   "outputs": [],
   "source": [
    "# Model's in sample AUC\n",
    "\n",
    "from sklearn.metrics import roc_auc_score\n",
    "logreg.fit(X3, Y3)\n",
    "Y3_pred = logreg.predict(X3)\n",
    "\n",
    "y_true = Y3\n",
    "y_scores = Y3_pred\n",
    "roc_auc_score(y_true, y_scores)"
   ]
  },
  {
   "cell_type": "code",
   "execution_count": null,
   "metadata": {},
   "outputs": [],
   "source": [
    "#Visualizing the model's ROC curve (**source for graph code given below the plot)\n",
    "from sklearn.metrics import roc_curve, auc\n",
    "logreg.fit(X3, Y3)\n",
    "\n",
    "y_test = Y3_test\n",
    "X_test = X3_test\n",
    " \n",
    "# Determine the false positive and true positive rates\n",
    "FPR, TPR, _ = roc_curve(y_test, logreg.predict_proba(X_test)[:,1])\n",
    " \n",
    "# Calculate the AUC\n",
    "\n",
    "roc_auc = auc(FPR, TPR)\n",
    "print ('ROC AUC: %0.3f' % roc_auc )\n",
    " \n",
    "# Plot of a ROC curve\n",
    "plt.figure(figsize=(10,10))\n",
    "plt.plot(FPR, TPR, label='ROC curve (area = %0.3f)' % roc_auc)\n",
    "plt.plot([0, 1], [0, 1], 'k--')\n",
    "plt.xlim([-0.05, 1.0])\n",
    "plt.ylim([0.0, 1.05])\n",
    "plt.xlabel('False Positive Rate')\n",
    "plt.ylabel('True Positive Rate')\n",
    "plt.title('ROC Curve (Test Sample Performance)')\n",
    "plt.legend(loc=\"lower right\")\n",
    "plt.show()"
   ]
  },
  {
   "cell_type": "code",
   "execution_count": null,
   "metadata": {},
   "outputs": [],
   "source": [
    "from sklearn.ensemble import RandomForestClassifier\n",
    "\n",
    "cols=[\"Age\", \"Fare\", \"TravelAlone\", \"Pclass_1\", \"Pclass_2\",\"Embarked_C\",\"Embarked_S\",\"Sex_male\",\"IsMinor\"] \n",
    "X=df_final[cols]\n",
    "Y=df_final['Survived']\n",
    "\n",
    "random_forest = RandomForestClassifier(n_estimators=100)\n",
    "random_forest.fit(X, Y)\n",
    "random_forest.score(X, Y)"
   ]
  },
  {
   "cell_type": "code",
   "execution_count": null,
   "metadata": {},
   "outputs": [],
   "source": [
    "final_test_RF=final_test[cols]\n",
    "Y_pred_RF = random_forest.predict(final_test_RF)"
   ]
  },
  {
   "cell_type": "code",
   "execution_count": null,
   "metadata": {},
   "outputs": [],
   "source": [
    "submission = pd.DataFrame({\n",
    "        \"PassengerId\": test_df[\"PassengerId\"],\n",
    "        \"Survived\": Y_pred_RF\n",
    "    })\n",
    "submission.to_csv('titanic.csv', index=False)"
   ]
  },
  {
   "cell_type": "code",
   "execution_count": null,
   "metadata": {},
   "outputs": [],
   "source": [
    "from sklearn import tree\n",
    "import graphviz\n",
    "tree1 = tree.DecisionTreeClassifier(criterion='gini', splitter='best',max_depth=3, min_samples_leaf=20)"
   ]
  },
  {
   "cell_type": "code",
   "execution_count": null,
   "metadata": {},
   "outputs": [],
   "source": [
    "cols=[\"Age\", \"Fare\", \"TravelAlone\", \"Pclass_1\", \"Pclass_2\",\"Embarked_C\",\"Embarked_S\",\"Sex_male\",\"IsMinor\"] \n",
    "X_DT=df_final[cols]\n",
    "Y_DT=df_final['Survived']\n",
    "\n",
    "tree1.fit(X_DT, Y_DT)"
   ]
  },
  {
   "cell_type": "code",
   "execution_count": null,
   "metadata": {},
   "outputs": [],
   "source": [
    "import graphviz \n",
    "tree1_view = tree.export_graphviz(tree1, out_file=None, feature_names = X_DT.columns.values, rotate=True) \n",
    "tree1viz = graphviz.Source(tree1_view)\n",
    "tree1viz"
   ]
  },
  {
   "cell_type": "code",
   "execution_count": null,
   "metadata": {},
   "outputs": [],
   "source": [
    "final_test_DT=final_test[cols]"
   ]
  },
  {
   "cell_type": "code",
   "execution_count": null,
   "metadata": {},
   "outputs": [],
   "source": [
    "Y_pred_DT = tree1.predict(final_test_DT)"
   ]
  },
  {
   "cell_type": "code",
   "execution_count": null,
   "metadata": {},
   "outputs": [],
   "source": [
    "# submission = pd.DataFrame({\n",
    "#        \"PassengerId\": test_df[\"PassengerId\"],\n",
    "#        \"Survived\": Y_pred_DT\n",
    "#    })\n",
    "#submission.to_csv('titanic.csv', index=False)"
   ]
  }
 ],
 "metadata": {
  "kernelspec": {
   "display_name": "Python 3",
   "language": "python",
   "name": "python3"
  },
  "language_info": {
   "codemirror_mode": {
    "name": "ipython",
    "version": 3
   },
   "file_extension": ".py",
   "mimetype": "text/x-python",
   "name": "python",
   "nbconvert_exporter": "python",
   "pygments_lexer": "ipython3",
   "version": "3.7.4"
  }
 },
 "nbformat": 4,
 "nbformat_minor": 2
}
